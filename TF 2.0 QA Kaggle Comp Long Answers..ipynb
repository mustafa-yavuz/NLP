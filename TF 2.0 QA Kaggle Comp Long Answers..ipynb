{
 "cells": [
  {
   "cell_type": "code",
   "execution_count": 1,
   "metadata": {},
   "outputs": [],
   "source": [
    "import os\n",
    "import json\n",
    "import gc\n",
    "import pickle"
   ]
  },
  {
   "cell_type": "code",
   "execution_count": 2,
   "metadata": {},
   "outputs": [],
   "source": [
    "import numpy as np\n",
    "import pandas as pd\n",
    "from tqdm import tqdm_notebook as tqdm\n",
    "from tensorflow.keras.models import Model\n",
    "from tensorflow.keras.layers import Input, Dense, Embedding, SpatialDropout1D, concatenate, Masking\n",
    "from tensorflow.keras.layers import LSTM, Bidirectional, GlobalMaxPooling1D, Dropout\n",
    "from tensorflow.keras.preprocessing import text, sequence\n",
    "from tqdm import tqdm_notebook as tqdm\n",
    "import fasttext"
   ]
  },
  {
   "cell_type": "code",
   "execution_count": 3,
   "metadata": {},
   "outputs": [],
   "source": [
    "TRAIN = \"C:/Users/WorkPC/Desktop/Untitled Folder/simplified-nq-train.jsonl\"\n",
    "TEST = \"C:/Users/WorkPC/Desktop/Untitled Folder/simplified-nq-test.jsonl\""
   ]
  },
  {
   "cell_type": "code",
   "execution_count": 4,
   "metadata": {},
   "outputs": [],
   "source": [
    "def build_train(train_path, n_rows=200000, sampling_rate=15):\n",
    "    with open(train_path) as f:\n",
    "        processed_rows = []\n",
    "\n",
    "        for i in tqdm(range(n_rows)):\n",
    "            line = f.readline()\n",
    "            if not line:\n",
    "                break\n",
    "\n",
    "            line = json.loads(line)\n",
    "\n",
    "            text = line['document_text'].split(' ')\n",
    "            question = line['question_text']\n",
    "            annotations = line['annotations'][0]\n",
    "\n",
    "            for i, candidate in enumerate(line['long_answer_candidates']):\n",
    "                label = i == annotations['long_answer']['candidate_index']\n",
    "\n",
    "                start = candidate['start_token']\n",
    "                end = candidate['end_token']\n",
    "\n",
    "                if label or (i % sampling_rate == 0):\n",
    "                    processed_rows.append({\n",
    "                        'text': \" \".join(text[start:end]),\n",
    "                        'is_long_answer': label,\n",
    "                        'question': question\n",
    "                    })\n",
    "\n",
    "        train = pd.DataFrame(processed_rows)\n",
    "        \n",
    "        return train"
   ]
  },
  {
   "cell_type": "code",
   "execution_count": 5,
   "metadata": {},
   "outputs": [
    {
     "data": {
      "application/vnd.jupyter.widget-view+json": {
       "model_id": "3d67cf8702014ca3ad861b5088b5af46",
       "version_major": 2,
       "version_minor": 0
      },
      "text/plain": [
       "HBox(children=(IntProgress(value=0, max=200000), HTML(value='')))"
      ]
     },
     "metadata": {},
     "output_type": "display_data"
    },
    {
     "name": "stdout",
     "output_type": "stream",
     "text": [
      "\n"
     ]
    }
   ],
   "source": [
    "train_df = build_train(TRAIN)"
   ]
  },
  {
   "cell_type": "code",
   "execution_count": 6,
   "metadata": {},
   "outputs": [],
   "source": [
    "def build_test(test_path):\n",
    "    with open(test_path) as f:\n",
    "        processed_rows = []\n",
    "\n",
    "        for line in tqdm(f):\n",
    "            line = json.loads(line)\n",
    "\n",
    "            text = line['document_text'].split(' ')\n",
    "            question = line['question_text']\n",
    "            example_id = line['example_id']\n",
    "\n",
    "            for candidate in line['long_answer_candidates']:\n",
    "                start = candidate['start_token']\n",
    "                end = candidate['end_token']\n",
    "\n",
    "                processed_rows.append({\n",
    "                    'text': \" \".join(text[start:end]),\n",
    "                    'question': question,\n",
    "                    'sequence': f'{start}:{end}'\n",
    "                })\n",
    "\n",
    "        test = pd.DataFrame(processed_rows)\n",
    "    \n",
    "    return test"
   ]
  },
  {
   "cell_type": "code",
   "execution_count": 7,
   "metadata": {},
   "outputs": [
    {
     "data": {
      "application/vnd.jupyter.widget-view+json": {
       "model_id": "315d6b6aa0d84ba993dcf98dcf469b74",
       "version_major": 2,
       "version_minor": 0
      },
      "text/plain": [
       "HBox(children=(IntProgress(value=1, bar_style='info', max=1), HTML(value='')))"
      ]
     },
     "metadata": {},
     "output_type": "display_data"
    },
    {
     "name": "stdout",
     "output_type": "stream",
     "text": [
      "\n"
     ]
    }
   ],
   "source": [
    "test_df = build_test(TEST)"
   ]
  },
  {
   "cell_type": "code",
   "execution_count": 8,
   "metadata": {},
   "outputs": [
    {
     "data": {
      "text/html": [
       "<div>\n",
       "<style scoped>\n",
       "    .dataframe tbody tr th:only-of-type {\n",
       "        vertical-align: middle;\n",
       "    }\n",
       "\n",
       "    .dataframe tbody tr th {\n",
       "        vertical-align: top;\n",
       "    }\n",
       "\n",
       "    .dataframe thead th {\n",
       "        text-align: right;\n",
       "    }\n",
       "</style>\n",
       "<table border=\"1\" class=\"dataframe\">\n",
       "  <thead>\n",
       "    <tr style=\"text-align: right;\">\n",
       "      <th></th>\n",
       "      <th>text</th>\n",
       "      <th>is_long_answer</th>\n",
       "      <th>question</th>\n",
       "    </tr>\n",
       "  </thead>\n",
       "  <tbody>\n",
       "    <tr>\n",
       "      <td>0</td>\n",
       "      <td>&lt;Table&gt; &lt;Tr&gt; &lt;Td&gt; &lt;/Td&gt; &lt;Td&gt; ( hide ) This art...</td>\n",
       "      <td>False</td>\n",
       "      <td>which is the most common use of opt-in e-mail ...</td>\n",
       "    </tr>\n",
       "    <tr>\n",
       "      <td>1</td>\n",
       "      <td>&lt;Tr&gt; &lt;Td&gt; &lt;Ul&gt; &lt;Li&gt; Pay - per - click &lt;/Li&gt; &lt;L...</td>\n",
       "      <td>False</td>\n",
       "      <td>which is the most common use of opt-in e-mail ...</td>\n",
       "    </tr>\n",
       "    <tr>\n",
       "      <td>2</td>\n",
       "      <td>&lt;P&gt; Email marketing has evolved rapidly alongs...</td>\n",
       "      <td>False</td>\n",
       "      <td>which is the most common use of opt-in e-mail ...</td>\n",
       "    </tr>\n",
       "    <tr>\n",
       "      <td>3</td>\n",
       "      <td>&lt;Li&gt; Advertisers can reach substantial numbers...</td>\n",
       "      <td>False</td>\n",
       "      <td>which is the most common use of opt-in e-mail ...</td>\n",
       "    </tr>\n",
       "    <tr>\n",
       "      <td>4</td>\n",
       "      <td>&lt;P&gt; A common example of permission marketing i...</td>\n",
       "      <td>True</td>\n",
       "      <td>which is the most common use of opt-in e-mail ...</td>\n",
       "    </tr>\n",
       "    <tr>\n",
       "      <td>5</td>\n",
       "      <td>&lt;P&gt; The CAN - SPAM Act of 2003 was passed by C...</td>\n",
       "      <td>False</td>\n",
       "      <td>which is the most common use of opt-in e-mail ...</td>\n",
       "    </tr>\n",
       "    <tr>\n",
       "      <td>6</td>\n",
       "      <td>&lt;Table&gt; &lt;Tr&gt; &lt;Th_colspan=\"2\"&gt; Tracy McConnell ...</td>\n",
       "      <td>False</td>\n",
       "      <td>how i.met your mother who is the mother</td>\n",
       "    </tr>\n",
       "    <tr>\n",
       "      <td>7</td>\n",
       "      <td>&lt;P&gt; Tracy McConnell , better known as `` The M...</td>\n",
       "      <td>True</td>\n",
       "      <td>how i.met your mother who is the mother</td>\n",
       "    </tr>\n",
       "    <tr>\n",
       "      <td>8</td>\n",
       "      <td>&lt;P&gt; In `` Bass Player Wanted '' , the Mother p...</td>\n",
       "      <td>False</td>\n",
       "      <td>how i.met your mother who is the mother</td>\n",
       "    </tr>\n",
       "    <tr>\n",
       "      <td>9</td>\n",
       "      <td>&lt;Table&gt; &lt;Tr&gt; &lt;Td&gt; Part of a series on &lt;/Td&gt; &lt;/...</td>\n",
       "      <td>False</td>\n",
       "      <td>what type of fertilisation takes place in humans</td>\n",
       "    </tr>\n",
       "  </tbody>\n",
       "</table>\n",
       "</div>"
      ],
      "text/plain": [
       "                                                text  is_long_answer  \\\n",
       "0  <Table> <Tr> <Td> </Td> <Td> ( hide ) This art...           False   \n",
       "1  <Tr> <Td> <Ul> <Li> Pay - per - click </Li> <L...           False   \n",
       "2  <P> Email marketing has evolved rapidly alongs...           False   \n",
       "3  <Li> Advertisers can reach substantial numbers...           False   \n",
       "4  <P> A common example of permission marketing i...            True   \n",
       "5  <P> The CAN - SPAM Act of 2003 was passed by C...           False   \n",
       "6  <Table> <Tr> <Th_colspan=\"2\"> Tracy McConnell ...           False   \n",
       "7  <P> Tracy McConnell , better known as `` The M...            True   \n",
       "8  <P> In `` Bass Player Wanted '' , the Mother p...           False   \n",
       "9  <Table> <Tr> <Td> Part of a series on </Td> </...           False   \n",
       "\n",
       "                                            question  \n",
       "0  which is the most common use of opt-in e-mail ...  \n",
       "1  which is the most common use of opt-in e-mail ...  \n",
       "2  which is the most common use of opt-in e-mail ...  \n",
       "3  which is the most common use of opt-in e-mail ...  \n",
       "4  which is the most common use of opt-in e-mail ...  \n",
       "5  which is the most common use of opt-in e-mail ...  \n",
       "6            how i.met your mother who is the mother  \n",
       "7            how i.met your mother who is the mother  \n",
       "8            how i.met your mother who is the mother  \n",
       "9   what type of fertilisation takes place in humans  "
      ]
     },
     "execution_count": 8,
     "metadata": {},
     "output_type": "execute_result"
    }
   ],
   "source": [
    "train_df.head(10)"
   ]
  },
  {
   "cell_type": "code",
   "execution_count": 9,
   "metadata": {},
   "outputs": [
    {
     "data": {
      "text/html": [
       "<div>\n",
       "<style scoped>\n",
       "    .dataframe tbody tr th:only-of-type {\n",
       "        vertical-align: middle;\n",
       "    }\n",
       "\n",
       "    .dataframe tbody tr th {\n",
       "        vertical-align: top;\n",
       "    }\n",
       "\n",
       "    .dataframe thead th {\n",
       "        text-align: right;\n",
       "    }\n",
       "</style>\n",
       "<table border=\"1\" class=\"dataframe\">\n",
       "  <thead>\n",
       "    <tr style=\"text-align: right;\">\n",
       "      <th></th>\n",
       "      <th>text</th>\n",
       "      <th>question</th>\n",
       "      <th>sequence</th>\n",
       "    </tr>\n",
       "  </thead>\n",
       "  <tbody>\n",
       "    <tr>\n",
       "      <td>0</td>\n",
       "      <td>&lt;Table&gt; &lt;Tr&gt; &lt;Th_colspan=\"2\"&gt; High Commission ...</td>\n",
       "      <td>who is the south african high commissioner in ...</td>\n",
       "      <td>18:136</td>\n",
       "    </tr>\n",
       "    <tr>\n",
       "      <td>1</td>\n",
       "      <td>&lt;Tr&gt; &lt;Th_colspan=\"2\"&gt; High Commission of South...</td>\n",
       "      <td>who is the south african high commissioner in ...</td>\n",
       "      <td>19:30</td>\n",
       "    </tr>\n",
       "    <tr>\n",
       "      <td>2</td>\n",
       "      <td>&lt;Tr&gt; &lt;Th&gt; Location &lt;/Th&gt; &lt;Td&gt; Trafalgar Square...</td>\n",
       "      <td>who is the south african high commissioner in ...</td>\n",
       "      <td>34:45</td>\n",
       "    </tr>\n",
       "    <tr>\n",
       "      <td>3</td>\n",
       "      <td>&lt;Tr&gt; &lt;Th&gt; Address &lt;/Th&gt; &lt;Td&gt; Trafalgar Square ...</td>\n",
       "      <td>who is the south african high commissioner in ...</td>\n",
       "      <td>45:59</td>\n",
       "    </tr>\n",
       "    <tr>\n",
       "      <td>4</td>\n",
       "      <td>&lt;Tr&gt; &lt;Th&gt; Coordinates &lt;/Th&gt; &lt;Td&gt; 51 ° 30 ′ 30 ...</td>\n",
       "      <td>who is the south african high commissioner in ...</td>\n",
       "      <td>59:126</td>\n",
       "    </tr>\n",
       "  </tbody>\n",
       "</table>\n",
       "</div>"
      ],
      "text/plain": [
       "                                                text  \\\n",
       "0  <Table> <Tr> <Th_colspan=\"2\"> High Commission ...   \n",
       "1  <Tr> <Th_colspan=\"2\"> High Commission of South...   \n",
       "2  <Tr> <Th> Location </Th> <Td> Trafalgar Square...   \n",
       "3  <Tr> <Th> Address </Th> <Td> Trafalgar Square ...   \n",
       "4  <Tr> <Th> Coordinates </Th> <Td> 51 ° 30 ′ 30 ...   \n",
       "\n",
       "                                            question sequence  \n",
       "0  who is the south african high commissioner in ...   18:136  \n",
       "1  who is the south african high commissioner in ...    19:30  \n",
       "2  who is the south african high commissioner in ...    34:45  \n",
       "3  who is the south african high commissioner in ...    45:59  \n",
       "4  who is the south african high commissioner in ...   59:126  "
      ]
     },
     "execution_count": 9,
     "metadata": {},
     "output_type": "execute_result"
    }
   ],
   "source": [
    "test_df.head()"
   ]
  },
  {
   "cell_type": "code",
   "execution_count": 10,
   "metadata": {},
   "outputs": [
    {
     "data": {
      "application/vnd.jupyter.widget-view+json": {
       "model_id": "f28ce5ec03ea44df87a3227a7dcf9d41",
       "version_major": 2,
       "version_minor": 0
      },
      "text/plain": [
       "HBox(children=(IntProgress(value=0, max=4), HTML(value='')))"
      ]
     },
     "metadata": {},
     "output_type": "display_data"
    },
    {
     "name": "stdout",
     "output_type": "stream",
     "text": [
      "\n"
     ]
    }
   ],
   "source": [
    "tokenizer = text.Tokenizer(lower=False, num_words=80000)\n",
    "\n",
    "# creating vocabulary\n",
    "for text in tqdm([train_df.text, test_df.text, train_df.question, test_df.question]):\n",
    "    tokenizer.fit_on_texts(text.values)"
   ]
  },
  {
   "cell_type": "code",
   "execution_count": 11,
   "metadata": {},
   "outputs": [],
   "source": [
    "def compute_text_and_questions(train, test, tokenizer):\n",
    "    train_text = tokenizer.texts_to_sequences(train.text.values)\n",
    "    train_questions = tokenizer.texts_to_sequences(train.question.values)\n",
    "    test_text = tokenizer.texts_to_sequences(test.text.values)\n",
    "    test_questions = tokenizer.texts_to_sequences(test.question.values)\n",
    "    \n",
    "    train_text = sequence.pad_sequences(train_text, maxlen=300)\n",
    "    train_questions = sequence.pad_sequences(train_questions)\n",
    "    test_text = sequence.pad_sequences(test_text, maxlen=300)\n",
    "    test_questions = sequence.pad_sequences(test_questions)\n",
    "    \n",
    "    return train_text, train_questions, test_text, test_questions"
   ]
  },
  {
   "cell_type": "code",
   "execution_count": 12,
   "metadata": {},
   "outputs": [],
   "source": [
    "# Computing sequences\n",
    "train_text, train_questions, test_text, test_questions = compute_text_and_questions(train_df, test_df, tokenizer)\n",
    "\n",
    "# Training target true answer=1 / wrong answer=0\n",
    "train_target = train_df.is_long_answer.astype(int).values"
   ]
  },
  {
   "cell_type": "code",
   "execution_count": 13,
   "metadata": {},
   "outputs": [
    {
     "data": {
      "text/plain": [
       "array([   0,    0,    0,    0,    0,    0,    0,    0,    0,    0,    0,\n",
       "          0,    0,    0,    0,    0,    0,    0,    0,    0,    0,    0,\n",
       "          0,    0,    0,    0,    0,    0,    0,    0,    0,    0,    0,\n",
       "          0,    0,    0,    0,    0,    0,    0,    0,    0,    0,    0,\n",
       "          0,    0,    0,    0,    0,    0,    0,    0,    0,    0,    0,\n",
       "          0,    0,    0,    0,    0,    0,    0,    0,    0,    0,    0,\n",
       "          0,    0,    0,    0,    0,    0,    0,    0,    0,    0,    0,\n",
       "          0,    0,    0,    0,    0,    0,    0,    0,    0,    0,    0,\n",
       "          0,    0,    0,    0,    0,    0,    0,    0,    0,    0,    0,\n",
       "          0,    0,    0,    0,    0,    0,    0,    0,    0,    0,    0,\n",
       "          0,    0,    0,    0,    0,    0,    0,    0,    0,    0,    0,\n",
       "          0,    0,    0,    0,    0,    0,    0,    0,    0,    0,    0,\n",
       "          0,    0,    0,    0,    0,    0,    0,    0,    0,    0,    0,\n",
       "          0,    0,    0,    0,    0,    0,    0,    0,    0,    0,    0,\n",
       "          0,    0,    0,    0,    0,    0,    0,    0,    0,    0,    0,\n",
       "          0,   24,    2,    1,    1,    1, 1308,   93,  136,   46, 1119,\n",
       "        831,  263,  182,  322,   44,   38, 1255,  254,  831,   20,    3,\n",
       "        871,  939,  266,   52,    7,   29,    9,  238,  254,  256, 2226,\n",
       "         24,    2,    1,    1,    1,   93,  136,  447,  431,  247,   19,\n",
       "        663,  263,  182,  322,   58,  136,   18,  429,  247,    9,  519,\n",
       "        326,  607,  418,  134,   39,  547,    7,  404,  157,  125,  266,\n",
       "         52,    7,   29,    9,  238,   58,  256,  272,    1,    2,   24,\n",
       "         24,    2,    1,    1,    1,   93,  136, 2768, 1522,  309, 1253,\n",
       "        263,  322,   44,   18, 7130,    3, 1814,  179,    7,  429, 3673,\n",
       "        247, 7417, 2837,  132,    6,  309, 1253,  700,   39,  404,  145,\n",
       "        120,  266,   52,    7,   29,    9,  238,   58,  256,  272,    1,\n",
       "          2,   24,  266,   52,    7,   29,    9,  238,   58,  256,  272,\n",
       "          1,    2,   24])"
      ]
     },
     "execution_count": 13,
     "metadata": {},
     "output_type": "execute_result"
    }
   ],
   "source": [
    "train_text[0]"
   ]
  },
  {
   "cell_type": "code",
   "execution_count": 14,
   "metadata": {},
   "outputs": [
    {
     "data": {
      "text/plain": [
       "(1921946, 300)"
      ]
     },
     "execution_count": 14,
     "metadata": {},
     "output_type": "execute_result"
    }
   ],
   "source": [
    "train_text.shape"
   ]
  },
  {
   "cell_type": "code",
   "execution_count": 15,
   "metadata": {},
   "outputs": [
    {
     "data": {
      "text/plain": [
       "(1921946,)"
      ]
     },
     "execution_count": 15,
     "metadata": {},
     "output_type": "execute_result"
    }
   ],
   "source": [
    "train_target.shape"
   ]
  },
  {
   "cell_type": "code",
   "execution_count": 16,
   "metadata": {},
   "outputs": [
    {
     "data": {
      "text/plain": [
       "(1921946, 24)"
      ]
     },
     "execution_count": 16,
     "metadata": {},
     "output_type": "execute_result"
    }
   ],
   "source": [
    "train_questions.shape"
   ]
  },
  {
   "cell_type": "code",
   "execution_count": 17,
   "metadata": {},
   "outputs": [
    {
     "data": {
      "text/plain": [
       "(45163, 17)"
      ]
     },
     "execution_count": 17,
     "metadata": {},
     "output_type": "execute_result"
    }
   ],
   "source": [
    "test_questions.shape"
   ]
  },
  {
   "cell_type": "code",
   "execution_count": 18,
   "metadata": {},
   "outputs": [],
   "source": [
    "path = 'crawl-300d-2M-subword.bin'"
   ]
  },
  {
   "cell_type": "code",
   "execution_count": 19,
   "metadata": {},
   "outputs": [],
   "source": [
    "def build_embedding_matrix(tokenizer, path):\n",
    "    embedding_matrix = np.zeros((tokenizer.num_words + 1, 300))\n",
    "    ft_model = fasttext.load_model(path)\n",
    "\n",
    "    for word, i in tokenizer.word_index.items():\n",
    "        if i >= tokenizer.num_words - 1:\n",
    "            break\n",
    "        embedding_matrix[i] = ft_model.get_word_vector(word)\n",
    "    \n",
    "    return embedding_matrix"
   ]
  },
  {
   "cell_type": "code",
   "execution_count": 20,
   "metadata": {},
   "outputs": [
    {
     "name": "stderr",
     "output_type": "stream",
     "text": [
      "Warning : `load_model` does not return WordVectorModel or SupervisedModel any more, but a `FastText` object which is very similar.\n"
     ]
    }
   ],
   "source": [
    "embedding_matrix = build_embedding_matrix(tokenizer, path)"
   ]
  },
  {
   "cell_type": "code",
   "execution_count": 21,
   "metadata": {},
   "outputs": [],
   "source": [
    "def build_model(embedding_matrix):\n",
    "    embedding = Embedding(\n",
    "        *embedding_matrix.shape, \n",
    "        weights=[embedding_matrix], \n",
    "        trainable=False, \n",
    "        mask_zero=True\n",
    "    )\n",
    "    \n",
    "    q_in = Input(shape=(None,))\n",
    "    q = embedding(q_in)\n",
    "    q = SpatialDropout1D(0.2)(q)\n",
    "    q = Bidirectional(LSTM(100, return_sequences=True))(q)\n",
    "    q = GlobalMaxPooling1D()(q)\n",
    "    \n",
    "    \n",
    "    t_in = Input(shape=(None,))\n",
    "    t = embedding(t_in)\n",
    "    t = SpatialDropout1D(0.2)(t)\n",
    "    t = Bidirectional(LSTM(150, return_sequences=True))(t)\n",
    "    t = GlobalMaxPooling1D()(t)\n",
    "    \n",
    "    hidden = concatenate([q, t])\n",
    "    hidden = Dense(300, activation='relu')(hidden)\n",
    "    hidden = Dropout(0.5)(hidden)\n",
    "    hidden = Dense(300, activation='relu')(hidden)\n",
    "    hidden = Dropout(0.5)(hidden)\n",
    "    \n",
    "    out1 = Dense(1, activation='sigmoid')(hidden)\n",
    "    \n",
    "    model = Model(inputs=[t_in, q_in], outputs=out1)\n",
    "    model.compile(loss='binary_crossentropy', optimizer='adam')\n",
    "\n",
    "    return model"
   ]
  },
  {
   "cell_type": "code",
   "execution_count": 22,
   "metadata": {},
   "outputs": [
    {
     "name": "stdout",
     "output_type": "stream",
     "text": [
      "Model: \"model\"\n",
      "__________________________________________________________________________________________________\n",
      "Layer (type)                    Output Shape         Param #     Connected to                     \n",
      "==================================================================================================\n",
      "input_1 (InputLayer)            [(None, None)]       0                                            \n",
      "__________________________________________________________________________________________________\n",
      "input_2 (InputLayer)            [(None, None)]       0                                            \n",
      "__________________________________________________________________________________________________\n",
      "embedding (Embedding)           (None, None, 300)    24000300    input_1[0][0]                    \n",
      "                                                                 input_2[0][0]                    \n",
      "__________________________________________________________________________________________________\n",
      "spatial_dropout1d (SpatialDropo (None, None, 300)    0           embedding[0][0]                  \n",
      "__________________________________________________________________________________________________\n",
      "spatial_dropout1d_1 (SpatialDro (None, None, 300)    0           embedding[1][0]                  \n",
      "__________________________________________________________________________________________________\n",
      "bidirectional (Bidirectional)   (None, None, 200)    320800      spatial_dropout1d[0][0]          \n",
      "__________________________________________________________________________________________________\n",
      "bidirectional_1 (Bidirectional) (None, None, 300)    541200      spatial_dropout1d_1[0][0]        \n",
      "__________________________________________________________________________________________________\n",
      "global_max_pooling1d (GlobalMax (None, 200)          0           bidirectional[0][0]              \n",
      "__________________________________________________________________________________________________\n",
      "global_max_pooling1d_1 (GlobalM (None, 300)          0           bidirectional_1[0][0]            \n",
      "__________________________________________________________________________________________________\n",
      "concatenate (Concatenate)       (None, 500)          0           global_max_pooling1d[0][0]       \n",
      "                                                                 global_max_pooling1d_1[0][0]     \n",
      "__________________________________________________________________________________________________\n",
      "dense (Dense)                   (None, 300)          150300      concatenate[0][0]                \n",
      "__________________________________________________________________________________________________\n",
      "dropout (Dropout)               (None, 300)          0           dense[0][0]                      \n",
      "__________________________________________________________________________________________________\n",
      "dense_1 (Dense)                 (None, 300)          90300       dropout[0][0]                    \n",
      "__________________________________________________________________________________________________\n",
      "dropout_1 (Dropout)             (None, 300)          0           dense_1[0][0]                    \n",
      "__________________________________________________________________________________________________\n",
      "dense_2 (Dense)                 (None, 1)            301         dropout_1[0][0]                  \n",
      "==================================================================================================\n",
      "Total params: 25,103,201\n",
      "Trainable params: 1,102,901\n",
      "Non-trainable params: 24,000,300\n",
      "__________________________________________________________________________________________________\n"
     ]
    }
   ],
   "source": [
    "model = build_model(embedding_matrix)\n",
    "model.summary()"
   ]
  },
  {
   "cell_type": "code",
   "execution_count": null,
   "metadata": {},
   "outputs": [],
   "source": [
    "train_history = model.fit(\n",
    "    [train_text, train_questions], \n",
    "    train_target,\n",
    "    epochs=2,\n",
    "    validation_split=0.2,\n",
    "    batch_size=1024\n",
    ")"
   ]
  },
  {
   "cell_type": "code",
   "execution_count": null,
   "metadata": {},
   "outputs": [],
   "source": []
  }
 ],
 "metadata": {
  "kernelspec": {
   "display_name": "Python 3",
   "language": "python",
   "name": "python3"
  },
  "language_info": {
   "codemirror_mode": {
    "name": "ipython",
    "version": 3
   },
   "file_extension": ".py",
   "mimetype": "text/x-python",
   "name": "python",
   "nbconvert_exporter": "python",
   "pygments_lexer": "ipython3",
   "version": "3.7.4"
  }
 },
 "nbformat": 4,
 "nbformat_minor": 2
}
