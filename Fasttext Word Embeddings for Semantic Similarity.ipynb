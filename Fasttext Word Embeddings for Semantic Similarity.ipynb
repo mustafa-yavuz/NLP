{
 "cells": [
  {
   "cell_type": "code",
   "execution_count": 1,
   "metadata": {},
   "outputs": [
    {
     "name": "stderr",
     "output_type": "stream",
     "text": [
      "Using TensorFlow backend.\n",
      "[nltk_data] Downloading package punkt to\n",
      "[nltk_data]     C:\\Users\\WorkPC\\AppData\\Roaming\\nltk_data...\n",
      "[nltk_data]   Package punkt is already up-to-date!\n",
      "[nltk_data] Downloading package wordnet to\n",
      "[nltk_data]     C:\\Users\\WorkPC\\AppData\\Roaming\\nltk_data...\n",
      "[nltk_data]   Package wordnet is already up-to-date!\n",
      "[nltk_data] Downloading package stopwords to\n",
      "[nltk_data]     C:\\Users\\WorkPC\\AppData\\Roaming\\nltk_data...\n",
      "[nltk_data]   Package stopwords is already up-to-date!\n"
     ]
    }
   ],
   "source": [
    "from keras.preprocessing.text import Tokenizer\n",
    "from gensim.models.fasttext import FastText\n",
    "import numpy as np\n",
    "import matplotlib.pyplot as plt\n",
    "import nltk\n",
    "from string import punctuation\n",
    "from nltk.corpus import stopwords\n",
    "from nltk.tokenize import word_tokenize\n",
    "from nltk.stem import WordNetLemmatizer\n",
    "from nltk.tokenize import sent_tokenize\n",
    "from nltk import WordPunctTokenizer\n",
    "\n",
    "import wikipedia\n",
    "import nltk\n",
    "nltk.download('punkt')\n",
    "nltk.download('wordnet')\n",
    "nltk.download('stopwords')\n",
    "en_stop = set(nltk.corpus.stopwords.words('english'))\n",
    "\n",
    "%matplotlib inline"
   ]
  },
  {
   "cell_type": "code",
   "execution_count": 2,
   "metadata": {},
   "outputs": [],
   "source": [
    "#retrieve the page contents via the content attribute\n",
    "artificial_intelligence = wikipedia.page(\"Artificial Intelligence\").content\n",
    "machine_learning = wikipedia.page(\"Machine Learning\").content\n",
    "deep_learning = wikipedia.page(\"Deep Learning\").content\n",
    "neural_network = wikipedia.page(\"Neural Network\").content\n",
    "\n",
    "#The sent_tokenize method returns list of sentences\n",
    "artificial_intelligence = sent_tokenize(artificial_intelligence)\n",
    "machine_learning = sent_tokenize(machine_learning)\n",
    "deep_learning = sent_tokenize(deep_learning)\n",
    "neural_network = sent_tokenize(neural_network)\n",
    "\n",
    "#sentences from the four articles are joined together\n",
    "artificial_intelligence.extend(machine_learning)\n",
    "artificial_intelligence.extend(deep_learning)\n",
    "artificial_intelligence.extend(neural_network)"
   ]
  },
  {
   "cell_type": "code",
   "execution_count": 3,
   "metadata": {},
   "outputs": [
    {
     "data": {
      "text/plain": [
       "'In computer science, artificial intelligence (AI), sometimes called machine intelligence, is intelligence demonstrated by machines, unlike the natural intelligence displayed by humans and animals.'"
      ]
     },
     "execution_count": 3,
     "metadata": {},
     "output_type": "execute_result"
    }
   ],
   "source": [
    "artificial_intelligence[0]"
   ]
  },
  {
   "cell_type": "markdown",
   "metadata": {},
   "source": [
    "Data Preprocessing"
   ]
  },
  {
   "cell_type": "code",
   "execution_count": 4,
   "metadata": {},
   "outputs": [],
   "source": [
    "#removing punctuations and numbers\n",
    "#converting words into lowercase\n",
    "#lemmatizing words to their root form\n",
    "#stop words and the words with the length less than 4 will be removed from the corpus\n",
    "\n",
    "import re\n",
    "from nltk.stem import WordNetLemmatizer\n",
    "\n",
    "stemmer = WordNetLemmatizer()\n",
    "\n",
    "def preprocess_text(document):\n",
    "        # Remove all the special characters\n",
    "        document = re.sub(r'\\W', ' ', str(document))\n",
    "\n",
    "        # remove all single characters\n",
    "        document = re.sub(r'\\s+[a-zA-Z]\\s+', ' ', document)\n",
    "\n",
    "        # Remove single characters from the start\n",
    "        document = re.sub(r'\\^[a-zA-Z]\\s+', ' ', document)\n",
    "\n",
    "        # Substituting multiple spaces with single space\n",
    "        document = re.sub(r'\\s+', ' ', document, flags=re.I)\n",
    "\n",
    "        # Removing prefixed 'b'\n",
    "        document = re.sub(r'^b\\s+', '', document)\n",
    "\n",
    "        # Converting to Lowercase\n",
    "        document = document.lower()\n",
    "\n",
    "        # Lemmatization\n",
    "        tokens = document.split()\n",
    "        tokens = [stemmer.lemmatize(word) for word in tokens]\n",
    "        tokens = [word for word in tokens if word not in en_stop]\n",
    "        tokens = [word for word in tokens if len(word) > 3]\n",
    "\n",
    "        preprocessed_text = ' '.join(tokens)\n",
    "\n",
    "        return preprocessed_text"
   ]
  },
  {
   "cell_type": "code",
   "execution_count": 5,
   "metadata": {},
   "outputs": [
    {
     "name": "stdout",
     "output_type": "stream",
     "text": [
      "artificial intelligence advanced technology present\n"
     ]
    }
   ],
   "source": [
    "sent = preprocess_text(\"Artificial intelligence, is the most advanced technology of the present era\")\n",
    "print(sent)"
   ]
  },
  {
   "cell_type": "code",
   "execution_count": 6,
   "metadata": {},
   "outputs": [
    {
     "data": {
      "text/plain": [
       "'computer science artificial intelligence sometimes called machine intelligence intelligence demonstrated machine unlike natural intelligence displayed human animal'"
      ]
     },
     "execution_count": 6,
     "metadata": {},
     "output_type": "execute_result"
    }
   ],
   "source": [
    "final_corpus = [preprocess_text(sentence) for sentence in artificial_intelligence if sentence.strip() !='']\n",
    "final_corpus[0]"
   ]
  },
  {
   "cell_type": "code",
   "execution_count": 7,
   "metadata": {},
   "outputs": [
    {
     "data": {
      "text/plain": [
       "['computer',\n",
       " 'science',\n",
       " 'artificial',\n",
       " 'intelligence',\n",
       " 'sometimes',\n",
       " 'called',\n",
       " 'machine',\n",
       " 'intelligence',\n",
       " 'intelligence',\n",
       " 'demonstrated',\n",
       " 'machine',\n",
       " 'unlike',\n",
       " 'natural',\n",
       " 'intelligence',\n",
       " 'displayed',\n",
       " 'human',\n",
       " 'animal']"
      ]
     },
     "execution_count": 7,
     "metadata": {},
     "output_type": "execute_result"
    }
   ],
   "source": [
    "word_punctuation_tokenizer = nltk.WordPunctTokenizer()\n",
    "word_tokenized_corpus = [word_punctuation_tokenizer.tokenize(sent) for sent in final_corpus]\n",
    "word_tokenized_corpus[0]"
   ]
  },
  {
   "cell_type": "markdown",
   "metadata": {},
   "source": [
    "Creating Word Representations"
   ]
  },
  {
   "cell_type": "code",
   "execution_count": 8,
   "metadata": {},
   "outputs": [],
   "source": [
    "# hyperparamteres for fasttext model\n",
    "\n",
    "#size of the embedding vector\n",
    "embedding_size = 60 \n",
    "\n",
    "#size of the number of words occurring before and after the word\n",
    "#The word embeddings for the input word are learned using these 80 output words 40 words before and after the input word\n",
    "window_size = 40 \n",
    "\n",
    "#minimum frequency of a word in the corpus for which the word representations will be generated\n",
    "min_word = 5\n",
    "\n",
    "#the most frequently occurring word will be down-sampled by this number\n",
    "down_sampling = 1e-2"
   ]
  },
  {
   "cell_type": "code",
   "execution_count": 9,
   "metadata": {},
   "outputs": [],
   "source": [
    "ft_model = FastText(word_tokenized_corpus,\n",
    "                      size=embedding_size,\n",
    "                      window=window_size,\n",
    "                      min_count=min_word,\n",
    "                      sample=down_sampling,\n",
    "                      sg=1,                       # 1 for skipgram, 0 for BOW\n",
    "                      iter=100)"
   ]
  },
  {
   "cell_type": "code",
   "execution_count": 10,
   "metadata": {},
   "outputs": [
    {
     "name": "stdout",
     "output_type": "stream",
     "text": [
      "[-0.42348334 -0.13981    -0.3673555  -0.18530992 -0.42191035  0.32378814\n",
      " -0.1759081   0.60020757 -0.33952722  0.05320329  0.0050014   0.17317005\n",
      "  0.299596    0.30614978 -0.26391652 -0.11150341 -0.08951159 -0.44916818\n",
      " -0.2920483  -0.26908073  0.4368828  -0.49914163  0.3102714  -0.3491561\n",
      "  0.49644873 -0.18974216 -0.09919172 -0.48192358  0.13336301 -0.1491716\n",
      "  0.24192058  0.15403497 -0.21336807 -0.16339162 -0.15442526  0.13162258\n",
      "  0.00217823 -0.25798118  0.05528881 -0.03461967  0.29691762  0.03850811\n",
      "  0.02567223 -0.2405285   0.25997114 -0.30692548  0.3483306  -0.01871014\n",
      "  0.01123231  0.24865952 -0.14138414 -0.12408929 -0.151892   -0.1260919\n",
      "  0.1354932  -0.10016061  0.03783804 -0.63229066  0.0226698  -0.1726187 ]\n"
     ]
    }
   ],
   "source": [
    "print(ft_model.wv['artificial'])"
   ]
  },
  {
   "cell_type": "code",
   "execution_count": 11,
   "metadata": {},
   "outputs": [
    {
     "name": "stdout",
     "output_type": "stream",
     "text": [
      "artificial:['intelligence', 'moral', 'simulate', 'neuron', 'neural']\n",
      "intelligence:['artificial', 'machine', 'question', 'philosophy', 'human']\n",
      "machine:['learning', 'ethic', 'intelligence', 'concerned', 'ethical']\n",
      "network:['neural', 'recurrent', 'deep', 'biological', 'layer']\n",
      "recurrent:['short', 'hopfield', 'convolutional', 'neural', 'network']\n",
      "deep:['learning', 'speech', 'generative', 'neural', 'recurrent']\n"
     ]
    }
   ],
   "source": [
    "# finding most similar 5 words for some words\n",
    "semantically_similar_words = {words: [item[0] for item in ft_model.wv.most_similar([words], topn=5)]\n",
    "                  for words in ['artificial', 'intelligence', 'machine', 'network', 'recurrent', 'deep']}\n",
    "\n",
    "for k,v in semantically_similar_words.items():\n",
    "    print(k+\":\"+str(v))"
   ]
  },
  {
   "cell_type": "code",
   "execution_count": 12,
   "metadata": {},
   "outputs": [
    {
     "name": "stdout",
     "output_type": "stream",
     "text": [
      "0.84678364\n"
     ]
    }
   ],
   "source": [
    "# cosine similarity btw words\n",
    "print(ft_model.wv.similarity(w1='artificial', w2='intelligence'))"
   ]
  },
  {
   "cell_type": "markdown",
   "metadata": {},
   "source": [
    "Visualizing Word Similarities"
   ]
  },
  {
   "cell_type": "code",
   "execution_count": 13,
   "metadata": {},
   "outputs": [
    {
     "name": "stdout",
     "output_type": "stream",
     "text": [
      "['intelligence', 'moral', 'simulate', 'neuron', 'neural', 'artificial', 'machine', 'question', 'philosophy', 'human', 'learning', 'ethic', 'intelligence', 'concerned', 'ethical', 'neural', 'recurrent', 'deep', 'biological', 'layer', 'short', 'hopfield', 'convolutional', 'neural', 'network', 'learning', 'speech', 'generative', 'neural', 'recurrent']\n"
     ]
    }
   ],
   "source": [
    "from sklearn.decomposition import PCA\n",
    "\n",
    "all_similar_words = sum([v for k, v in semantically_similar_words.items()], [])\n",
    "\n",
    "print(all_similar_words)"
   ]
  },
  {
   "cell_type": "code",
   "execution_count": 14,
   "metadata": {},
   "outputs": [
    {
     "name": "stdout",
     "output_type": "stream",
     "text": [
      "30\n"
     ]
    }
   ],
   "source": [
    "print(len(all_similar_words))"
   ]
  },
  {
   "cell_type": "code",
   "execution_count": 15,
   "metadata": {},
   "outputs": [
    {
     "data": {
      "image/png": "[encoded data removed]",
      "text/plain": [
       "<Figure size 1296x720 with 1 Axes>"
      ]
     },
     "metadata": {
      "needs_background": "light"
     },
     "output_type": "display_data"
    }
   ],
   "source": [
    "word_vectors = ft_model.wv[all_similar_words]\n",
    "\n",
    "pca = PCA(n_components=2)\n",
    "\n",
    "p_comps = pca.fit_transform(word_vectors)\n",
    "word_names = all_similar_words\n",
    "\n",
    "plt.figure(figsize=(18, 10))\n",
    "plt.scatter(p_comps[:, 0], p_comps[:, 1], c='red')\n",
    "\n",
    "for word_names, x, y in zip(word_names, p_comps[:, 0], p_comps[:, 1]):\n",
    "    plt.annotate(word_names, xy=(x+0.06, y+0.03), xytext=(0, 0), textcoords='offset points')"
   ]
  },
  {
   "cell_type": "code",
   "execution_count": null,
   "metadata": {},
   "outputs": [],
   "source": []
  }
 ],
 "metadata": {
  "kernelspec": {
   "display_name": "Python 3",
   "language": "python",
   "name": "python3"
  },
  "language_info": {
   "codemirror_mode": {
    "name": "ipython",
    "version": 3
   },
   "file_extension": ".py",
   "mimetype": "text/x-python",
   "name": "python",
   "nbconvert_exporter": "python",
   "pygments_lexer": "ipython3",
   "version": "3.7.4"
  }
 },
 "nbformat": 4,
 "nbformat_minor": 2
}
